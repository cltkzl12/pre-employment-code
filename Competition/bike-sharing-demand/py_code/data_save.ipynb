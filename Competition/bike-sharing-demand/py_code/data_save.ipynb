{
 "cells": [
  {
   "cell_type": "code",
   "execution_count": 221,
   "metadata": {},
   "outputs": [
    {
     "name": "stdout",
     "output_type": "stream",
     "text": [
      "통과\n"
     ]
    }
   ],
   "source": [
    "import datetime\n",
    "import pandas as pd\n",
    "import pickle\n",
    "import os\n",
    "\n",
    "# 여태까지 작업한 데이터가 담기는 곳\n",
    "dict_df = {}\n",
    "cnt = 0\n",
    "trial = str(cnt)+'_trial'\n",
    "\n",
    "# 업로드한 데이터가 담기는곳\n",
    "pkl_data = None\n",
    "\n",
    "\n",
    "\n",
    "\n",
    "\n",
    "class data_save():\n",
    "    def __init__(self,train_df = pd.DataFrame() ,test_df = pd.DataFrame() ,all_df = pd.DataFrame()):\n",
    "        \n",
    "        global dict_df\n",
    "        global cnt\n",
    "        global trial\n",
    "        global pkl_data\n",
    "\n",
    "        \n",
    "        \n",
    "        if pkl_data == None :\n",
    "            # 현재 데이터 받기용\n",
    "            print('none임')\n",
    "            self.train_df = train_df\n",
    "            self.test_df = test_df\n",
    "            self.all_df = all_df\n",
    "        \n",
    "        else : \n",
    "            print('none아님')\n",
    "            # load할 pkl파일이 있으면 해당 데이터 load\n",
    "            dict_df = pkl_data.copy()\n",
    "            cnt = int(list(pkl_data.keys())[-1].split('_')[0])\n",
    "            trial = list(pkl_data.keys())[-1]\n",
    "\n",
    "        \n",
    "        # 데이터 history용 \n",
    "        if not all_df.empty :\n",
    "            cnt+=1\n",
    "            trial = str(cnt)+'_trial'\n",
    "            dict_df[trial] = all_df\n",
    "\n",
    "            \n",
    "            \n",
    "        elif not train_df.empty and not test_df.empty :\n",
    "            self.train_df['data_set'] = 'train'\n",
    "            self.test_df['data_set'] = 'test'\n",
    "            \n",
    "            for i in self.train_df.columns.difference(self.test_df.columns):\n",
    "                self.test_df[str(i)] = 0\n",
    "            \n",
    "            self.all_df = pd.concat([train_df,test_df])\n",
    "            \n",
    "            cnt+=1\n",
    "            trial = str(cnt)+'_trial'\n",
    "            dict_df[trial] = all_df\n",
    "\n",
    "            \n",
    "        \n",
    "    def return_train_df(self):\n",
    "        return self.train_df\n",
    "        \n",
    "    def return_test_df(self):\n",
    "        return self.test_df\n",
    "    \n",
    "    def return_all_df(self):\n",
    "        return self.all_df\n",
    "    \n",
    "    def return_dict_df(self):\n",
    "        return dict_df\n",
    "\n",
    "    def save_pkl(self):\n",
    "        with open('pkl_file/hist_df_'+datetime.datetime.now().strftime('%Y%m%d_%H%M')+'.pkl', 'wb') as f:\n",
    "            pickle.dump(dict_df, f)\n",
    "        \n",
    "    \n",
    "    def del_last_hist_df(self):\n",
    "        del dict_df[trial]\n",
    "        print('마지막 trial 데이터 제거')\n",
    "        print('제거된 trial : ', trial)\n",
    "        \n",
    "        cnt -= 1\n",
    "        trial = str(cnt-1)+'_trial'\n",
    "        \n",
    "\n",
    "\n",
    "# pkl파일 있으면 불러오는부분 ~\n",
    "r = [s for s in os.listdir('pkl_file') if \".pkl\" in s]\n",
    "\n",
    "if len(r)>=1:\n",
    "    print(\"통과\")\n",
    "    with open('pkl_file/'+r[-1], 'rb') as fr:\n",
    "        pkl_data = pickle.load(fr)\n",
    "        \n",
    "\n",
    "    "
   ]
  },
  {
   "cell_type": "code",
   "execution_count": 22,
   "metadata": {},
   "outputs": [],
   "source": [
    "from data_save import data_save"
   ]
  },
  {
   "cell_type": "code",
   "execution_count": 14,
   "metadata": {},
   "outputs": [
    {
     "data": {
      "text/plain": [
       "<data_save.data_save at 0x7fc398a79ad0>"
      ]
     },
     "execution_count": 14,
     "metadata": {},
     "output_type": "execute_result"
    }
   ],
   "source": [
    "now = data_save()\n",
    "now"
   ]
  },
  {
   "cell_type": "code",
   "execution_count": 15,
   "metadata": {},
   "outputs": [
    {
     "data": {
      "text/plain": [
       "{}"
      ]
     },
     "execution_count": 15,
     "metadata": {},
     "output_type": "execute_result"
    }
   ],
   "source": [
    "now.return_dict_df()"
   ]
  },
  {
   "cell_type": "code",
   "execution_count": 20,
   "metadata": {},
   "outputs": [
    {
     "data": {
      "text/html": [
       "<div>\n",
       "<style scoped>\n",
       "    .dataframe tbody tr th:only-of-type {\n",
       "        vertical-align: middle;\n",
       "    }\n",
       "\n",
       "    .dataframe tbody tr th {\n",
       "        vertical-align: top;\n",
       "    }\n",
       "\n",
       "    .dataframe thead th {\n",
       "        text-align: right;\n",
       "    }\n",
       "</style>\n",
       "<table border=\"1\" class=\"dataframe\">\n",
       "  <thead>\n",
       "    <tr style=\"text-align: right;\">\n",
       "      <th></th>\n",
       "    </tr>\n",
       "  </thead>\n",
       "  <tbody>\n",
       "  </tbody>\n",
       "</table>\n",
       "</div>"
      ],
      "text/plain": [
       "Empty DataFrame\n",
       "Columns: []\n",
       "Index: []"
      ]
     },
     "execution_count": 20,
     "metadata": {},
     "output_type": "execute_result"
    }
   ],
   "source": [
    "now.all_df"
   ]
  },
  {
   "cell_type": "code",
   "execution_count": 21,
   "metadata": {},
   "outputs": [
    {
     "data": {
      "text/plain": [
       "0"
      ]
     },
     "execution_count": 21,
     "metadata": {},
     "output_type": "execute_result"
    }
   ],
   "source": [
    "now.cnt"
   ]
  },
  {
   "cell_type": "code",
   "execution_count": null,
   "metadata": {},
   "outputs": [],
   "source": [
    "now.`"
   ]
  }
 ],
 "metadata": {
  "kernelspec": {
   "display_name": "Python 3",
   "language": "python",
   "name": "python3"
  },
  "language_info": {
   "codemirror_mode": {
    "name": "ipython",
    "version": 3
   },
   "file_extension": ".py",
   "mimetype": "text/x-python",
   "name": "python",
   "nbconvert_exporter": "python",
   "pygments_lexer": "ipython3",
   "version": "3.7.9"
  }
 },
 "nbformat": 4,
 "nbformat_minor": 4
}
